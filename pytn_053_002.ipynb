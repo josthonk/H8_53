{
 "cells": [
  {
   "cell_type": "code",
   "execution_count": 1,
   "metadata": {},
   "outputs": [
    {
     "name": "stdout",
     "output_type": "stream",
     "text": [
      "['Adit', 'Bagus', 'Yusuf', 'Ilham', 'Maria', 'Dita', 53, 0, 3.14]\n",
      "['Satya', 'Richard', 'Stefani', 'Timotius', 'Veronica', 'Viony', 'Yoga', 'Yoga']\n"
     ]
    }
   ],
   "source": [
    "names = [\"Adit\",\"Bagus\",\"Yusuf\",\"Ilham\",\"Maria\",\"Dita\",53,0,3.14]\n",
    "others = [\"Satya\",\"Richard\",\"Stefani\",\"Timotius\",\"Veronica\",\"Viony\",\"Yoga\",\"Yoga\"]\n",
    "\n",
    "print(names)\n",
    "print(others)"
   ]
  },
  {
   "cell_type": "code",
   "execution_count": 10,
   "metadata": {},
   "outputs": [
    {
     "name": "stdout",
     "output_type": "stream",
     "text": [
      "Yes! 0<50\n",
      "Yes! 0<50\n",
      "satya is not in others\n"
     ]
    }
   ],
   "source": [
    "x=0\n",
    "y=50\n",
    "z=\"satya\"\n",
    "\n",
    "if x<y:\n",
    "    print(f\"Yes! {x}<{y}\")\n",
    "    print(\"Yes! {}<{}\".format(x,y))\n",
    "    \n",
    "if z in others:\n",
    "    print(f\"name: {z} is in others\")\n",
    "    print(z * 3)\n",
    "    \n",
    "else:\n",
    "    print(f\"{z} is not in others\")"
   ]
  },
  {
   "cell_type": "code",
   "execution_count": 13,
   "metadata": {},
   "outputs": [
    {
     "name": "stdout",
     "output_type": "stream",
     "text": [
      "satya is not in others\n",
      "satyasatyasatyasatyasatyasatyasatyasatyasatyasatyasatyasatyasatyasatyasatyasatyasatyasatyasatyasatyasatyasatyasatyasatyasatyasatyasatyasatyasatyasatyasatyasatyasatyasatyasatyasatyasatyasatyasatyasatyasatyasatyasatyasatyasatyasatyasatyasatyasatyasatyasatyasatyasatyasatyasatyasatyasatyasatyasatyasatyasatyasatyasatyasatyasatyasatyasatyasatyasatyasatyasatyasatyasatyasatyasatyasatyasatyasatyasatyasatyasatyasatyasatyasatyasatyasatyasatyasatyasatyasatyasatyasatyasatyasatyasatyasatyasatyasatyasatyasatya\n"
     ]
    }
   ],
   "source": [
    "if z in others:\n",
    "    print(f\"name: {z} is in others\")\n",
    "    print(z*3)\n",
    "print(f\"{z} is not in others\")\n",
    "print(z*100)"
   ]
  },
  {
   "cell_type": "code",
   "execution_count": 14,
   "metadata": {},
   "outputs": [
    {
     "name": "stdout",
     "output_type": "stream",
     "text": [
      "0 name: Adit\n",
      "1 name: Bagus\n"
     ]
    }
   ],
   "source": [
    "idx = 0\n",
    "while idx < len(names):\n",
    "    if idx == 2:\n",
    "        break\n",
    "    print(idx, \"name:\", names[idx])\n",
    "    idx = idx + 1"
   ]
  },
  {
   "cell_type": "code",
   "execution_count": null,
   "metadata": {},
   "outputs": [],
   "source": []
  },
  {
   "cell_type": "code",
   "execution_count": 17,
   "metadata": {},
   "outputs": [
    {
     "name": "stdout",
     "output_type": "stream",
     "text": [
      "0 name: Adit\n",
      "1 name: Bagus\n",
      "2 name: Yusuf\n",
      "4 name: Maria\n",
      "5 name: Dita\n",
      "7 name: 0\n",
      "8 name: 3.14\n"
     ]
    }
   ],
   "source": [
    "# skip name with index 3,6,9,etc.\n",
    "idx = 0\n",
    "while idx < len (names):\n",
    "    if (idx % 3 == 0) and (idx !=0):\n",
    "        idx = idx + 1\n",
    "        continue\n",
    "    print (idx, \"name:\", names[idx])\n",
    "    idx = idx + 1"
   ]
  },
  {
   "cell_type": "code",
   "execution_count": 24,
   "metadata": {},
   "outputs": [
    {
     "ename": "SyntaxError",
     "evalue": "invalid syntax (<ipython-input-24-8c173b7968a3>, line 1)",
     "output_type": "error",
     "traceback": [
      "\u001b[1;36m  File \u001b[1;32m\"<ipython-input-24-8c173b7968a3>\"\u001b[1;36m, line \u001b[1;32m1\u001b[0m\n\u001b[1;33m    for i in (1,2,3,4,5,6,7,8,9,10)\u001b[0m\n\u001b[1;37m                                   ^\u001b[0m\n\u001b[1;31mSyntaxError\u001b[0m\u001b[1;31m:\u001b[0m invalid syntax\n"
     ]
    }
   ],
   "source": [
    "for i in (1,2,3,4,5,6,7,8,9,10)\n",
    "    print(i)"
   ]
  },
  {
   "cell_type": "code",
   "execution_count": 26,
   "metadata": {},
   "outputs": [
    {
     "ename": "SyntaxError",
     "evalue": "invalid syntax (<ipython-input-26-7339c5561f1e>, line 2)",
     "output_type": "error",
     "traceback": [
      "\u001b[1;36m  File \u001b[1;32m\"<ipython-input-26-7339c5561f1e>\"\u001b[1;36m, line \u001b[1;32m2\u001b[0m\n\u001b[1;33m    print (\"name:\" name)\u001b[0m\n\u001b[1;37m                   ^\u001b[0m\n\u001b[1;31mSyntaxError\u001b[0m\u001b[1;31m:\u001b[0m invalid syntax\n"
     ]
    }
   ],
   "source": [
    "for name in names:\n",
    "    print (\"name:\" name)\n",
    "    s = \"\"\n",
    "    for char in name:\n",
    "        s = s + char + \"-\"\n",
    "    print (s.lower())"
   ]
  },
  {
   "cell_type": "code",
   "execution_count": null,
   "metadata": {},
   "outputs": [],
   "source": []
  }
 ],
 "metadata": {
  "kernelspec": {
   "display_name": "Python 3",
   "language": "python",
   "name": "python3"
  },
  "language_info": {
   "codemirror_mode": {
    "name": "ipython",
    "version": 3
   },
   "file_extension": ".py",
   "mimetype": "text/x-python",
   "name": "python",
   "nbconvert_exporter": "python",
   "pygments_lexer": "ipython3",
   "version": "3.8.5"
  }
 },
 "nbformat": 4,
 "nbformat_minor": 4
}
