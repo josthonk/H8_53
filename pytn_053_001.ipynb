{
  "nbformat": 4,
  "nbformat_minor": 0,
  "metadata": {
    "colab": {
      "name": "Untitled0.ipynb",
      "provenance": [],
      "authorship_tag": "ABX9TyMqrle9vEdYPygfuqR6HCGU",
      "include_colab_link": true
    },
    "kernelspec": {
      "name": "python3",
      "display_name": "Python 3"
    },
    "language_info": {
      "name": "python"
    }
  },
  "cells": [
    {
      "cell_type": "markdown",
      "metadata": {
        "id": "view-in-github",
        "colab_type": "text"
      },
      "source": [
        "<a href=\"https://colab.research.google.com/github/josthonk/H8_53/blob/main/pytn_053_001.ipynb\" target=\"_parent\"><img src=\"https://colab.research.google.com/assets/colab-badge.svg\" alt=\"Open In Colab\"/></a>"
      ]
    },
    {
      "cell_type": "code",
      "metadata": {
        "colab": {
          "base_uri": "https://localhost:8080/"
        },
        "id": "a4T3WpCmhKT8",
        "outputId": "40b71971-2955-45d4-e55e-9f5b4b140595"
      },
      "source": [
        "100"
      ],
      "execution_count": 1,
      "outputs": [
        {
          "output_type": "execute_result",
          "data": {
            "text/plain": [
              "100"
            ]
          },
          "metadata": {
            "tags": []
          },
          "execution_count": 1
        }
      ]
    },
    {
      "cell_type": "code",
      "metadata": {
        "id": "0UNYvI96hST8"
      },
      "source": [
        "s='Hactiv8'"
      ],
      "execution_count": 2,
      "outputs": []
    },
    {
      "cell_type": "code",
      "metadata": {
        "colab": {
          "base_uri": "https://localhost:8080/"
        },
        "id": "o72aHxaBhXzU",
        "outputId": "54ef98c7-7a9b-4962-fcc7-41017e5470f3"
      },
      "source": [
        "!python --version"
      ],
      "execution_count": 3,
      "outputs": [
        {
          "output_type": "stream",
          "text": [
            "Python 3.7.10\n"
          ],
          "name": "stdout"
        }
      ]
    },
    {
      "cell_type": "code",
      "metadata": {
        "colab": {
          "base_uri": "https://localhost:8080/"
        },
        "id": "3YV4N_bChdRD",
        "outputId": "eb9beea9-d742-4ec7-b031-ec0f3dc9c185"
      },
      "source": [
        "print(s)"
      ],
      "execution_count": 4,
      "outputs": [
        {
          "output_type": "stream",
          "text": [
            "Hactiv8\n"
          ],
          "name": "stdout"
        }
      ]
    },
    {
      "cell_type": "code",
      "metadata": {
        "colab": {
          "base_uri": "https://localhost:8080/"
        },
        "id": "arJOIvfahfP1",
        "outputId": "a8264e35-dc32-44ad-aab7-8f553198fdc7"
      },
      "source": [
        "print(999)"
      ],
      "execution_count": 5,
      "outputs": [
        {
          "output_type": "stream",
          "text": [
            "999\n"
          ],
          "name": "stdout"
        }
      ]
    },
    {
      "cell_type": "code",
      "metadata": {
        "colab": {
          "base_uri": "https://localhost:8080/"
        },
        "id": "kKLIGCqYhjsV",
        "outputId": "61c94748-3510-46bb-edb2-d77952f2957b"
      },
      "source": [
        "type(999)"
      ],
      "execution_count": 6,
      "outputs": [
        {
          "output_type": "execute_result",
          "data": {
            "text/plain": [
              "int"
            ]
          },
          "metadata": {
            "tags": []
          },
          "execution_count": 6
        }
      ]
    },
    {
      "cell_type": "code",
      "metadata": {
        "colab": {
          "base_uri": "https://localhost:8080/"
        },
        "id": "Ft0s5_4shuHZ",
        "outputId": "d52e8859-4835-483b-c1fa-7c1bafe505eb"
      },
      "source": [
        "type(3.14)"
      ],
      "execution_count": 7,
      "outputs": [
        {
          "output_type": "execute_result",
          "data": {
            "text/plain": [
              "float"
            ]
          },
          "metadata": {
            "tags": []
          },
          "execution_count": 7
        }
      ]
    },
    {
      "cell_type": "code",
      "metadata": {
        "colab": {
          "base_uri": "https://localhost:8080/"
        },
        "id": "SaJeKq0KhuwX",
        "outputId": "f8d2c54f-3315-4fa6-c4a8-679ca7413aa9"
      },
      "source": [
        "type(1.0)"
      ],
      "execution_count": 8,
      "outputs": [
        {
          "output_type": "execute_result",
          "data": {
            "text/plain": [
              "float"
            ]
          },
          "metadata": {
            "tags": []
          },
          "execution_count": 8
        }
      ]
    },
    {
      "cell_type": "code",
      "metadata": {
        "colab": {
          "base_uri": "https://localhost:8080/"
        },
        "id": "xIWRKhlXhwXB",
        "outputId": "bfb63f86-eb40-4365-a7fc-1435c390abe1"
      },
      "source": [
        "type(1.),print(1.)"
      ],
      "execution_count": 9,
      "outputs": [
        {
          "output_type": "stream",
          "text": [
            "1.0\n"
          ],
          "name": "stdout"
        },
        {
          "output_type": "execute_result",
          "data": {
            "text/plain": [
              "(float, None)"
            ]
          },
          "metadata": {
            "tags": []
          },
          "execution_count": 9
        }
      ]
    },
    {
      "cell_type": "code",
      "metadata": {
        "colab": {
          "base_uri": "https://localhost:8080/"
        },
        "id": "7NHbQblRhxuy",
        "outputId": "b0fe38c0-cf4c-493f-8563-c5ba83abbd51"
      },
      "source": [
        "type(1.)\n",
        "print(1.)"
      ],
      "execution_count": 10,
      "outputs": [
        {
          "output_type": "stream",
          "text": [
            "1.0\n"
          ],
          "name": "stdout"
        }
      ]
    },
    {
      "cell_type": "code",
      "metadata": {
        "colab": {
          "base_uri": "https://localhost:8080/"
        },
        "id": "HQxRgPSXh0VP",
        "outputId": "b7a39543-b339-4a64-d85f-646930557e0b"
      },
      "source": [
        "print(1.)\n",
        "type(1.)"
      ],
      "execution_count": 11,
      "outputs": [
        {
          "output_type": "stream",
          "text": [
            "1.0\n"
          ],
          "name": "stdout"
        },
        {
          "output_type": "execute_result",
          "data": {
            "text/plain": [
              "float"
            ]
          },
          "metadata": {
            "tags": []
          },
          "execution_count": 11
        }
      ]
    },
    {
      "cell_type": "code",
      "metadata": {
        "colab": {
          "base_uri": "https://localhost:8080/"
        },
        "id": "j_12oNeFh16z",
        "outputId": "0cdc6609-05a4-463d-8d5e-8360e52bd01a"
      },
      "source": [
        "123456"
      ],
      "execution_count": 12,
      "outputs": [
        {
          "output_type": "execute_result",
          "data": {
            "text/plain": [
              "123456"
            ]
          },
          "metadata": {
            "tags": []
          },
          "execution_count": 12
        }
      ]
    },
    {
      "cell_type": "code",
      "metadata": {
        "colab": {
          "base_uri": "https://localhost:8080/"
        },
        "id": "FNgewI28h3SI",
        "outputId": "89fc3ea3-9a5b-415a-a21a-16f3c72dd046"
      },
      "source": [
        "print(123456)"
      ],
      "execution_count": 13,
      "outputs": [
        {
          "output_type": "stream",
          "text": [
            "123456\n"
          ],
          "name": "stdout"
        }
      ]
    },
    {
      "cell_type": "code",
      "metadata": {
        "colab": {
          "base_uri": "https://localhost:8080/"
        },
        "id": "kB-Hjn6Uh4dr",
        "outputId": "84f5b857-3eed-44d9-d06a-30447b0e9f26"
      },
      "source": [
        "print(\"hactiv8\")\n",
        "print('hactiv8')"
      ],
      "execution_count": 14,
      "outputs": [
        {
          "output_type": "stream",
          "text": [
            "hactiv8\n",
            "hactiv8\n"
          ],
          "name": "stdout"
        }
      ]
    },
    {
      "cell_type": "code",
      "metadata": {
        "colab": {
          "base_uri": "https://localhost:8080/"
        },
        "id": "nEk-q_M-h5ps",
        "outputId": "1e76d16b-7ff8-4dfa-b3a8-9a18587831e1"
      },
      "source": [
        "print(\"hactiv8\")\n",
        "print('hactiv8')\n",
        "print('''hactiv8''')"
      ],
      "execution_count": 15,
      "outputs": [
        {
          "output_type": "stream",
          "text": [
            "hactiv8\n",
            "hactiv8\n",
            "hactiv8\n"
          ],
          "name": "stdout"
        }
      ]
    },
    {
      "cell_type": "code",
      "metadata": {
        "colab": {
          "base_uri": "https://localhost:8080/"
        },
        "id": "TvBPDxjYh7B0",
        "outputId": "6959ac97-31b7-4a8f-c59c-91810c71f7a3"
      },
      "source": [
        "print(\"yo'sua\")"
      ],
      "execution_count": 16,
      "outputs": [
        {
          "output_type": "stream",
          "text": [
            "yo'sua\n"
          ],
          "name": "stdout"
        }
      ]
    },
    {
      "cell_type": "code",
      "metadata": {
        "colab": {
          "base_uri": "https://localhost:8080/"
        },
        "id": "eqbWulcCh8d4",
        "outputId": "5bb1bbe9-09c4-4d56-f4fb-a2c404ae63bf"
      },
      "source": [
        "print(\"\"\"\n",
        "\"I am attending Ha'tiv8\"\n",
        "\"\"\")"
      ],
      "execution_count": 17,
      "outputs": [
        {
          "output_type": "stream",
          "text": [
            "\n",
            "\"I am attending Ha'tiv8\"\n",
            "\n"
          ],
          "name": "stdout"
        }
      ]
    },
    {
      "cell_type": "code",
      "metadata": {
        "colab": {
          "base_uri": "https://localhost:8080/"
        },
        "id": "OE3o0f24h9k3",
        "outputId": "864a0dc9-3c06-4739-fddf-b13ab966fe79"
      },
      "source": [
        "print('''\n",
        "\"I am attending Ha'tiv8\",He said\n",
        "''')"
      ],
      "execution_count": 18,
      "outputs": [
        {
          "output_type": "stream",
          "text": [
            "\n",
            "\"I am attending Ha'tiv8\",He said\n",
            "\n"
          ],
          "name": "stdout"
        }
      ]
    },
    {
      "cell_type": "code",
      "metadata": {
        "colab": {
          "base_uri": "https://localhost:8080/"
        },
        "id": "gWeY8aXQh-wr",
        "outputId": "7de2a6e3-841d-4ded-d1f3-a334dff15a26"
      },
      "source": [
        "print(\"\"\"-----------------------\n",
        "I am Ha'tiv8,\n",
        "\"I am attending hactiv8\"\n",
        "-----------------------\"\"\")"
      ],
      "execution_count": 19,
      "outputs": [
        {
          "output_type": "stream",
          "text": [
            "-----------------------\n",
            "I am Ha'tiv8,\n",
            "\"I am attending hactiv8\"\n",
            "-----------------------\n"
          ],
          "name": "stdout"
        }
      ]
    },
    {
      "cell_type": "code",
      "metadata": {
        "colab": {
          "base_uri": "https://localhost:8080/"
        },
        "id": "Ucb-6rxLiPWp",
        "outputId": "184ae148-7d65-4731-d86a-c79ac9b1b43e"
      },
      "source": [
        "12345*10"
      ],
      "execution_count": 20,
      "outputs": [
        {
          "output_type": "execute_result",
          "data": {
            "text/plain": [
              "123450"
            ]
          },
          "metadata": {
            "tags": []
          },
          "execution_count": 20
        }
      ]
    },
    {
      "cell_type": "code",
      "metadata": {
        "colab": {
          "base_uri": "https://localhost:8080/"
        },
        "id": "CvphSqm5igBt",
        "outputId": "ca1e44c1-3bee-4d13-e41d-0640aff4fd71"
      },
      "source": [
        "print(12345*10);\n",
        "print((12345)*10)"
      ],
      "execution_count": 21,
      "outputs": [
        {
          "output_type": "stream",
          "text": [
            "123450\n",
            "123450\n"
          ],
          "name": "stdout"
        }
      ]
    },
    {
      "cell_type": "code",
      "metadata": {
        "colab": {
          "base_uri": "https://localhost:8080/",
          "height": 35
        },
        "id": "j78zvsjQih3I",
        "outputId": "bc4d4595-6300-4c80-dd47-0ff343d03d5a"
      },
      "source": [
        "'hactiv8'"
      ],
      "execution_count": 22,
      "outputs": [
        {
          "output_type": "execute_result",
          "data": {
            "application/vnd.google.colaboratory.intrinsic+json": {
              "type": "string"
            },
            "text/plain": [
              "'hactiv8'"
            ]
          },
          "metadata": {
            "tags": []
          },
          "execution_count": 22
        }
      ]
    },
    {
      "cell_type": "code",
      "metadata": {
        "colab": {
          "base_uri": "https://localhost:8080/"
        },
        "id": "C_URhgIVirSa",
        "outputId": "f3711cac-1cf5-440a-ca3a-1f4b1c8464cb"
      },
      "source": [
        "type(100), type(100.), type('100')"
      ],
      "execution_count": 23,
      "outputs": [
        {
          "output_type": "execute_result",
          "data": {
            "text/plain": [
              "(int, float, str)"
            ]
          },
          "metadata": {
            "tags": []
          },
          "execution_count": 23
        }
      ]
    },
    {
      "cell_type": "code",
      "metadata": {
        "colab": {
          "base_uri": "https://localhost:8080/"
        },
        "id": "fYMMMDlsishB",
        "outputId": "dd2b6d8b-c6ea-41e7-baf3-63ad7920a3ce"
      },
      "source": [
        "print(100), print(100.), print('100')"
      ],
      "execution_count": 24,
      "outputs": [
        {
          "output_type": "stream",
          "text": [
            "100\n",
            "100.0\n",
            "100\n"
          ],
          "name": "stdout"
        },
        {
          "output_type": "execute_result",
          "data": {
            "text/plain": [
              "(None, None, None)"
            ]
          },
          "metadata": {
            "tags": []
          },
          "execution_count": 24
        }
      ]
    },
    {
      "cell_type": "code",
      "metadata": {
        "colab": {
          "base_uri": "https://localhost:8080/",
          "height": 35
        },
        "id": "xl2EabUviud6",
        "outputId": "014b5dce-c360-457c-c5e9-fae3b15ab4c5"
      },
      "source": [
        "'pyton0530001'"
      ],
      "execution_count": 25,
      "outputs": [
        {
          "output_type": "execute_result",
          "data": {
            "application/vnd.google.colaboratory.intrinsic+json": {
              "type": "string"
            },
            "text/plain": [
              "'pyton0530001'"
            ]
          },
          "metadata": {
            "tags": []
          },
          "execution_count": 25
        }
      ]
    },
    {
      "cell_type": "code",
      "metadata": {
        "colab": {
          "base_uri": "https://localhost:8080/"
        },
        "id": "XLZ0flckizDW",
        "outputId": "8755b308-f16a-4658-b750-02fc0f25b5bd"
      },
      "source": [
        "type(True), type(False)"
      ],
      "execution_count": 26,
      "outputs": [
        {
          "output_type": "execute_result",
          "data": {
            "text/plain": [
              "(bool, bool)"
            ]
          },
          "metadata": {
            "tags": []
          },
          "execution_count": 26
        }
      ]
    },
    {
      "cell_type": "code",
      "metadata": {
        "colab": {
          "base_uri": "https://localhost:8080/"
        },
        "id": "5FaI1oO_i0RW",
        "outputId": "0d0ffd1b-b791-4d9b-f799-e92599a2df92"
      },
      "source": [
        "int(10.23), float(), str(), bool()"
      ],
      "execution_count": 27,
      "outputs": [
        {
          "output_type": "execute_result",
          "data": {
            "text/plain": [
              "(10, 0.0, '', False)"
            ]
          },
          "metadata": {
            "tags": []
          },
          "execution_count": 27
        }
      ]
    },
    {
      "cell_type": "code",
      "metadata": {
        "colab": {
          "base_uri": "https://localhost:8080/"
        },
        "id": "xlwG3D5ii127",
        "outputId": "49642caf-90ec-4083-bb8a-1d85289c7dae"
      },
      "source": [
        "int(10.23), float(11), str(100), bool(0)"
      ],
      "execution_count": 28,
      "outputs": [
        {
          "output_type": "execute_result",
          "data": {
            "text/plain": [
              "(10, 11.0, '100', False)"
            ]
          },
          "metadata": {
            "tags": []
          },
          "execution_count": 28
        }
      ]
    },
    {
      "cell_type": "code",
      "metadata": {
        "colab": {
          "base_uri": "https://localhost:8080/"
        },
        "id": "Tj_lCvrMi3CE",
        "outputId": "663ade88-ff84-4e4f-c315-da7264d64c79"
      },
      "source": [
        "int(10.23), float(11), str(100), bool(23)"
      ],
      "execution_count": 29,
      "outputs": [
        {
          "output_type": "execute_result",
          "data": {
            "text/plain": [
              "(10, 11.0, '100', True)"
            ]
          },
          "metadata": {
            "tags": []
          },
          "execution_count": 29
        }
      ]
    },
    {
      "cell_type": "code",
      "metadata": {
        "colab": {
          "base_uri": "https://localhost:8080/"
        },
        "id": "cBSFqZ7Yi4e1",
        "outputId": "aed0cf22-68d6-429b-d8ce-4568c5c680ab"
      },
      "source": [
        "bool(0), bool(None), bool(-11), bool('hactiv8')"
      ],
      "execution_count": 30,
      "outputs": [
        {
          "output_type": "execute_result",
          "data": {
            "text/plain": [
              "(False, False, True, True)"
            ]
          },
          "metadata": {
            "tags": []
          },
          "execution_count": 30
        }
      ]
    },
    {
      "cell_type": "code",
      "metadata": {
        "colab": {
          "base_uri": "https://localhost:8080/"
        },
        "id": "BiwDO6Lai5uI",
        "outputId": "653fd5d2-4ecb-49ec-de5b-cd3ab4380256"
      },
      "source": [
        "type(.42e7)"
      ],
      "execution_count": 31,
      "outputs": [
        {
          "output_type": "execute_result",
          "data": {
            "text/plain": [
              "float"
            ]
          },
          "metadata": {
            "tags": []
          },
          "execution_count": 31
        }
      ]
    },
    {
      "cell_type": "code",
      "metadata": {
        "colab": {
          "base_uri": "https://localhost:8080/"
        },
        "id": "PE-Qezmvi7FI",
        "outputId": "e67ff61a-918c-4438-f053-1616d7ad4698"
      },
      "source": [
        "n = 1000\n",
        "a=b=c=300\n",
        "x=y=3.14\n",
        "\n",
        "print(n, type(n))\n",
        "print(a,b,c, type(a), type(b), type(c))\n",
        "print(x, y, type(x), type(y))"
      ],
      "execution_count": 32,
      "outputs": [
        {
          "output_type": "stream",
          "text": [
            "1000 <class 'int'>\n",
            "300 300 300 <class 'int'> <class 'int'> <class 'int'>\n",
            "3.14 3.14 <class 'float'> <class 'float'>\n"
          ],
          "name": "stdout"
        }
      ]
    },
    {
      "cell_type": "code",
      "metadata": {
        "id": "4PisrAGii8ds"
      },
      "source": [
        "B = \"hactiv8\"\n",
        "n = int(n)"
      ],
      "execution_count": 37,
      "outputs": []
    },
    {
      "cell_type": "code",
      "metadata": {
        "colab": {
          "base_uri": "https://localhost:8080/"
        },
        "id": "P7qDeqwKi_GA",
        "outputId": "112bd540-03d2-4575-f9f6-9b45be6cfd09"
      },
      "source": [
        "print(n)"
      ],
      "execution_count": 34,
      "outputs": [
        {
          "output_type": "stream",
          "text": [
            "1000\n"
          ],
          "name": "stdout"
        }
      ]
    },
    {
      "cell_type": "code",
      "metadata": {
        "colab": {
          "base_uri": "https://localhost:8080/"
        },
        "id": "tSngBk4wjiOV",
        "outputId": "a942c1cf-cd85-4e1c-a839-a6d2808d2f46"
      },
      "source": [
        "type(n)"
      ],
      "execution_count": 35,
      "outputs": [
        {
          "output_type": "execute_result",
          "data": {
            "text/plain": [
              "str"
            ]
          },
          "metadata": {
            "tags": []
          },
          "execution_count": 35
        }
      ]
    },
    {
      "cell_type": "code",
      "metadata": {
        "colab": {
          "base_uri": "https://localhost:8080/"
        },
        "id": "Vu7FNA-0jATr",
        "outputId": "4e1008c7-88a4-48b0-be46-10ccedfbb8a4"
      },
      "source": [
        "print (a+b)\n",
        "print (a*b)\n",
        "print (a/b, type(a/b))\n",
        "print (a-x)\n",
        "print (a%b)\n",
        "print (a**2)\n",
        "print (n%23)"
      ],
      "execution_count": 38,
      "outputs": [
        {
          "output_type": "stream",
          "text": [
            "600\n",
            "90000\n",
            "1.0 <class 'float'>\n",
            "296.86\n",
            "0\n",
            "90000\n",
            "11\n"
          ],
          "name": "stdout"
        }
      ]
    },
    {
      "cell_type": "code",
      "metadata": {
        "colab": {
          "base_uri": "https://localhost:8080/"
        },
        "id": "1TM4psJZjfu4",
        "outputId": "da44780f-ab0c-4af3-9d83-bf8f7ee1c1a3"
      },
      "source": [
        "5/2"
      ],
      "execution_count": 39,
      "outputs": [
        {
          "output_type": "execute_result",
          "data": {
            "text/plain": [
              "2.5"
            ]
          },
          "metadata": {
            "tags": []
          },
          "execution_count": 39
        }
      ]
    },
    {
      "cell_type": "code",
      "metadata": {
        "colab": {
          "base_uri": "https://localhost:8080/"
        },
        "id": "kBIT7LkHjI-8",
        "outputId": "72bd1d17-85cf-467b-d81a-be5f5684a131"
      },
      "source": [
        "6%3"
      ],
      "execution_count": 40,
      "outputs": [
        {
          "output_type": "execute_result",
          "data": {
            "text/plain": [
              "0"
            ]
          },
          "metadata": {
            "tags": []
          },
          "execution_count": 40
        }
      ]
    },
    {
      "cell_type": "code",
      "metadata": {
        "colab": {
          "base_uri": "https://localhost:8080/"
        },
        "id": "FYEoTUXdjsWu",
        "outputId": "69180247-742d-43fb-97e8-f3bec05a6554"
      },
      "source": [
        "7%3"
      ],
      "execution_count": 41,
      "outputs": [
        {
          "output_type": "execute_result",
          "data": {
            "text/plain": [
              "1"
            ]
          },
          "metadata": {
            "tags": []
          },
          "execution_count": 41
        }
      ]
    },
    {
      "cell_type": "code",
      "metadata": {
        "colab": {
          "base_uri": "https://localhost:8080/"
        },
        "id": "5evs4yX5jtRy",
        "outputId": "0f018f81-7099-4577-c072-fe97efa3a877"
      },
      "source": [
        "print(s)"
      ],
      "execution_count": 42,
      "outputs": [
        {
          "output_type": "stream",
          "text": [
            "Hactiv8\n"
          ],
          "name": "stdout"
        }
      ]
    },
    {
      "cell_type": "code",
      "metadata": {
        "colab": {
          "base_uri": "https://localhost:8080/"
        },
        "id": "NpaQEABJjuX4",
        "outputId": "2f922cbf-338d-47d6-b4a9-bfa90a2f4e91"
      },
      "source": [
        "print(s * 3)"
      ],
      "execution_count": 43,
      "outputs": [
        {
          "output_type": "stream",
          "text": [
            "Hactiv8Hactiv8Hactiv8\n"
          ],
          "name": "stdout"
        }
      ]
    },
    {
      "cell_type": "code",
      "metadata": {
        "colab": {
          "base_uri": "https://localhost:8080/"
        },
        "id": "EszklBEzjvdm",
        "outputId": "6670d19a-2c39-467d-96ef-0a5476df7612"
      },
      "source": [
        "print(s + str(3))"
      ],
      "execution_count": 44,
      "outputs": [
        {
          "output_type": "stream",
          "text": [
            "Hactiv83\n"
          ],
          "name": "stdout"
        }
      ]
    },
    {
      "cell_type": "code",
      "metadata": {
        "colab": {
          "base_uri": "https://localhost:8080/"
        },
        "id": "uhiVDZd5jwkh",
        "outputId": "77ed90df-08d1-4811-e594-8c47b496bf7b"
      },
      "source": [
        "print(s + str(3))"
      ],
      "execution_count": 45,
      "outputs": [
        {
          "output_type": "stream",
          "text": [
            "Hactiv83\n"
          ],
          "name": "stdout"
        }
      ]
    },
    {
      "cell_type": "code",
      "metadata": {
        "colab": {
          "base_uri": "https://localhost:8080/"
        },
        "id": "N2NhjlZsjxub",
        "outputId": "98d54da9-18c6-497e-9b12-a234d7f26f5b"
      },
      "source": [
        "book_title = \"monty's python\"\n",
        "bootcamp_name = \"hacktiv8\"\n",
        "password = 'mYnAMeISjoE'\n",
        "\n",
        "print(book_title)\n",
        "print(bootcamp_name)\n",
        "print(book_title.title())\n",
        "print(bootcamp_name.upper())\n",
        "print(password.swapcase())\n",
        "print(book_title.capitalize())"
      ],
      "execution_count": 46,
      "outputs": [
        {
          "output_type": "stream",
          "text": [
            "monty's python\n",
            "hacktiv8\n",
            "Monty'S Python\n",
            "HACKTIV8\n",
            "MyNamEisJOe\n",
            "Monty's python\n"
          ],
          "name": "stdout"
        }
      ]
    },
    {
      "cell_type": "code",
      "metadata": {
        "colab": {
          "base_uri": "https://localhost:8080/"
        },
        "id": "_pgQx1rxjysj",
        "outputId": "38aa99c1-4b44-4131-cd27-e4949a053e2f"
      },
      "source": [
        "a = 10\n",
        "b= 20\n",
        "\n",
        "print (a==b) #validasi a apakah = b\n",
        "print (a!=b) #tidak sama dengan\n",
        "print (a<=b)\n",
        "print (a>=b)\n",
        "\n",
        "a=30\n",
        "b=30\n",
        "print (a==b)\n",
        "print (a<=b)\n",
        "print (a>=b)"
      ],
      "execution_count": 47,
      "outputs": [
        {
          "output_type": "stream",
          "text": [
            "False\n",
            "True\n",
            "True\n",
            "False\n",
            "True\n",
            "True\n",
            "True\n"
          ],
          "name": "stdout"
        }
      ]
    },
    {
      "cell_type": "code",
      "metadata": {
        "colab": {
          "base_uri": "https://localhost:8080/"
        },
        "id": "B2VZINkdj0Ww",
        "outputId": "091192d1-c611-47da-f376-636886fd21a3"
      },
      "source": [
        "# + Operators\n",
        "s =  'foo'\n",
        "t = 'bar'\n",
        "u = 'baz'\n",
        "\n",
        "print(s+t)\n",
        "print(s+t+u)\n",
        "\n",
        "print('Hacktiv8 ' + \"PTP\")\n"
      ],
      "execution_count": 48,
      "outputs": [
        {
          "output_type": "stream",
          "text": [
            "foobar\n",
            "foobarbaz\n",
            "Hacktiv8 PTP\n"
          ],
          "name": "stdout"
        }
      ]
    },
    {
      "cell_type": "code",
      "metadata": {
        "colab": {
          "base_uri": "https://localhost:8080/"
        },
        "id": "Z10a7CjFj2pd",
        "outputId": "db839abf-d2f7-42b7-a711-0d98d2dad753"
      },
      "source": [
        "# * Operators\n",
        "s= 'hello..'\n",
        "print (s*4)"
      ],
      "execution_count": 49,
      "outputs": [
        {
          "output_type": "stream",
          "text": [
            "hello..hello..hello..hello..\n"
          ],
          "name": "stdout"
        }
      ]
    },
    {
      "cell_type": "code",
      "metadata": {
        "colab": {
          "base_uri": "https://localhost:8080/"
        },
        "id": "qVnJOpoPj384",
        "outputId": "e982b80d-6488-4e30-cba1-73d950c4d6d2"
      },
      "source": [
        "# in Operators\n",
        "s = \"foo\"\n",
        "\n",
        "print(s in \"That food for us\")\n",
        "print(s in \"That good for us\")"
      ],
      "execution_count": 50,
      "outputs": [
        {
          "output_type": "stream",
          "text": [
            "True\n",
            "False\n"
          ],
          "name": "stdout"
        }
      ]
    },
    {
      "cell_type": "code",
      "metadata": {
        "id": "FUhaZCWPj44M"
      },
      "source": [
        "# Case Conversion\n",
        "s = 'HackTIV8'\n"
      ],
      "execution_count": 51,
      "outputs": []
    },
    {
      "cell_type": "code",
      "metadata": {
        "colab": {
          "base_uri": "https://localhost:8080/"
        },
        "id": "9aCuu3WQj6YA",
        "outputId": "ce8e6095-fca5-4f8d-e0ec-147ee589ffb9"
      },
      "source": [
        "print (\"\"\"'Whether you think you can, or you think you can't--you're right.'\"\"\")"
      ],
      "execution_count": 52,
      "outputs": [
        {
          "output_type": "stream",
          "text": [
            "'Whether you think you can, or you think you can't--you're right.'\n"
          ],
          "name": "stdout"
        }
      ]
    },
    {
      "cell_type": "code",
      "metadata": {
        "colab": {
          "base_uri": "https://localhost:8080/"
        },
        "id": "jsiJYBWcj7ZH",
        "outputId": "f3c43d99-cdc6-4528-8c85-869c17bcb76b"
      },
      "source": [
        "names = [\"Adit\",\"Bagus\",\"Yusuf\",\"Ilham\",\"Maria\",\"Dita\",53,0,3.14]\n",
        "print(names, type(names))"
      ],
      "execution_count": 53,
      "outputs": [
        {
          "output_type": "stream",
          "text": [
            "['Adit', 'Bagus', 'Yusuf', 'Ilham', 'Maria', 'Dita', 53, 0, 3.14] <class 'list'>\n"
          ],
          "name": "stdout"
        }
      ]
    },
    {
      "cell_type": "code",
      "metadata": {
        "colab": {
          "base_uri": "https://localhost:8080/"
        },
        "id": "ppR9KMzmj8_8",
        "outputId": "d1b457a7-e470-4453-d2d5-08e33729e546"
      },
      "source": [
        "others = [\"Satya\",\"Richard\",\"Stefani\",\"Timotius\",\"Veronica\",\"Viony\",\"Yoga\",\"yoga\"]\n",
        "print(others)"
      ],
      "execution_count": 54,
      "outputs": [
        {
          "output_type": "stream",
          "text": [
            "['Satya', 'Richard', 'Stefani', 'Timotius', 'Veronica', 'Viony', 'Yoga', 'yoga']\n"
          ],
          "name": "stdout"
        }
      ]
    },
    {
      "cell_type": "code",
      "metadata": {
        "colab": {
          "base_uri": "https://localhost:8080/"
        },
        "id": "4_Em4R6pkCan",
        "outputId": "04f316e6-73d3-4755-f44e-4095cdf96f93"
      },
      "source": [
        "names == others"
      ],
      "execution_count": 55,
      "outputs": [
        {
          "output_type": "execute_result",
          "data": {
            "text/plain": [
              "False"
            ]
          },
          "metadata": {
            "tags": []
          },
          "execution_count": 55
        }
      ]
    },
    {
      "cell_type": "code",
      "metadata": {
        "colab": {
          "base_uri": "https://localhost:8080/"
        },
        "id": "jB0r9eepkIB2",
        "outputId": "9723d934-b2f8-48b9-8587-5e06758e118d"
      },
      "source": [
        "num_others = len(others)\n",
        "num_names = len(names)\n",
        "print(\"length others:\", num_others)\n",
        "print(\"length names:\", num_names)"
      ],
      "execution_count": 56,
      "outputs": [
        {
          "output_type": "stream",
          "text": [
            "length others: 8\n",
            "length names: 9\n"
          ],
          "name": "stdout"
        }
      ]
    },
    {
      "cell_type": "code",
      "metadata": {
        "colab": {
          "base_uri": "https://localhost:8080/"
        },
        "id": "iojkqT38kJX_",
        "outputId": "d24a7dd8-8b96-43da-d8c5-764197e10055"
      },
      "source": [
        "len([1,2,3,4,[1,2,3],5,6,7,True,False])"
      ],
      "execution_count": 57,
      "outputs": [
        {
          "output_type": "execute_result",
          "data": {
            "text/plain": [
              "10"
            ]
          },
          "metadata": {
            "tags": []
          },
          "execution_count": 57
        }
      ]
    },
    {
      "cell_type": "code",
      "metadata": {
        "colab": {
          "base_uri": "https://localhost:8080/"
        },
        "id": "9ZzXhsDGkKzJ",
        "outputId": "47fcdb93-3486-4c3d-ac42-2970a75a48da"
      },
      "source": [
        "len([[1,2,3],\n",
        " [2,3],\n",
        " False,\n",
        "True])"
      ],
      "execution_count": 58,
      "outputs": [
        {
          "output_type": "execute_result",
          "data": {
            "text/plain": [
              "4"
            ]
          },
          "metadata": {
            "tags": []
          },
          "execution_count": 58
        }
      ]
    },
    {
      "cell_type": "code",
      "metadata": {
        "colab": {
          "base_uri": "https://localhost:8080/"
        },
        "id": "223TdhQOkMHQ",
        "outputId": "64ce5e8d-e85e-4fdd-bd95-f67a5f591507"
      },
      "source": [
        "print(\"item 1 of names:\", names[0])\n",
        "print(\"item 2 of names:\", names[1])\n",
        "print(\"item 5 of names:\", names[4])"
      ],
      "execution_count": 59,
      "outputs": [
        {
          "output_type": "stream",
          "text": [
            "item 1 of names: Adit\n",
            "item 2 of names: Bagus\n",
            "item 5 of names: Maria\n"
          ],
          "name": "stdout"
        }
      ]
    },
    {
      "cell_type": "code",
      "metadata": {
        "colab": {
          "base_uri": "https://localhost:8080/"
        },
        "id": "ocd7hNFKkNpW",
        "outputId": "e4b33ff9-c940-417c-ac5c-c19d07c40907"
      },
      "source": [
        "print (names [0] == names [-len(names)])\n",
        "print (names [0], names [-len(names)])\n",
        "print (names [len(names)-1] == names [-1])\n",
        "print (names [len(names)-1], names[-1])\n",
        "print (names[-1], names[-2])"
      ],
      "execution_count": 60,
      "outputs": [
        {
          "output_type": "stream",
          "text": [
            "True\n",
            "Adit Adit\n",
            "True\n",
            "3.14 3.14\n",
            "3.14 0\n"
          ],
          "name": "stdout"
        }
      ]
    },
    {
      "cell_type": "code",
      "metadata": {
        "colab": {
          "base_uri": "https://localhost:8080/"
        },
        "id": "bqhaJ2fhkOwn",
        "outputId": "6db7a537-fcee-4d3e-8b7d-5258c97f4351"
      },
      "source": [
        "print(others)\n",
        "print(others[1:4], others[2:5], others[0:len(others)//2])\n",
        "\n",
        "print(names)\n",
        "print(names[1:4], names[2:5], names[0:len(names)//3])\n"
      ],
      "execution_count": 61,
      "outputs": [
        {
          "output_type": "stream",
          "text": [
            "['Satya', 'Richard', 'Stefani', 'Timotius', 'Veronica', 'Viony', 'Yoga', 'yoga']\n",
            "['Richard', 'Stefani', 'Timotius'] ['Stefani', 'Timotius', 'Veronica'] ['Satya', 'Richard', 'Stefani', 'Timotius']\n",
            "['Adit', 'Bagus', 'Yusuf', 'Ilham', 'Maria', 'Dita', 53, 0, 3.14]\n",
            "['Bagus', 'Yusuf', 'Ilham'] ['Yusuf', 'Ilham', 'Maria'] ['Adit', 'Bagus', 'Yusuf']\n"
          ],
          "name": "stdout"
        }
      ]
    },
    {
      "cell_type": "code",
      "metadata": {
        "id": "3sVsRJ49kQV2"
      },
      "source": [
        "##TUPLES using ()"
      ],
      "execution_count": 62,
      "outputs": []
    },
    {
      "cell_type": "code",
      "metadata": {
        "colab": {
          "base_uri": "https://localhost:8080/"
        },
        "id": "fLsSh3rqkS1s",
        "outputId": "3beadeee-8640-4125-e0d0-bc75e0e6a357"
      },
      "source": [
        "batch = (\"PYTN53\",\"PYTN54\",53,54)\n",
        "batches = ((\"PYTN053ONL\",53),(\"PYTN054ONL\",54))\n",
        "\n",
        "print(batch, len(batch), batch[0], type(batch))\n",
        "print(batches, len(batches), batches[-1],type(batches))"
      ],
      "execution_count": 63,
      "outputs": [
        {
          "output_type": "stream",
          "text": [
            "('PYTN53', 'PYTN54', 53, 54) 4 PYTN53 <class 'tuple'>\n",
            "(('PYTN053ONL', 53), ('PYTN054ONL', 54)) 2 ('PYTN054ONL', 54) <class 'tuple'>\n"
          ],
          "name": "stdout"
        }
      ]
    },
    {
      "cell_type": "code",
      "metadata": {
        "id": "Dzp0yrNfkUf-"
      },
      "source": [
        "#batch[-1] = 100 \n",
        "#This will throw error, tuple can not be updated\n"
      ],
      "execution_count": 64,
      "outputs": []
    },
    {
      "cell_type": "code",
      "metadata": {
        "colab": {
          "base_uri": "https://localhost:8080/"
        },
        "id": "_2BJeszSkWeQ",
        "outputId": "f98efbbc-96c3-4f3d-b9e4-8b95dd4b6fb6"
      },
      "source": [
        "a,b,c,d = batch\n",
        "print(a)\n",
        "print(b)\n",
        "print(c)\n",
        "print(d)\n",
        "\n",
        "batch_name, batch_number = batches\n",
        "print(batch_name)\n",
        "print(batch_number)\n",
        "\n",
        "name_1, _ = batches\n",
        "print(name_1)\n",
        "print(_)"
      ],
      "execution_count": 65,
      "outputs": [
        {
          "output_type": "stream",
          "text": [
            "PYTN53\n",
            "PYTN54\n",
            "53\n",
            "54\n",
            "('PYTN053ONL', 53)\n",
            "('PYTN054ONL', 54)\n",
            "('PYTN053ONL', 53)\n",
            "('PYTN054ONL', 54)\n"
          ],
          "name": "stdout"
        }
      ]
    },
    {
      "cell_type": "code",
      "metadata": {
        "id": "tIGEqhUKnvKK"
      },
      "source": [
        "profiles = {\n",
        "    \"names\":[\"harry\",\"owen\",\"josthonk\",\"dita\"],\n",
        "    \"age\":[23,11,33,23],\n",
        "    \"seratus\":100\n",
        "}"
      ],
      "execution_count": 66,
      "outputs": []
    },
    {
      "cell_type": "code",
      "metadata": {
        "colab": {
          "base_uri": "https://localhost:8080/"
        },
        "id": "Nu3Neg4Fnw_C",
        "outputId": "abbd5eb8-2997-4199-9510-04652b124d40"
      },
      "source": [
        "print (profiles)"
      ],
      "execution_count": 67,
      "outputs": [
        {
          "output_type": "stream",
          "text": [
            "{'names': ['harry', 'owen', 'josthonk', 'dita'], 'age': [23, 11, 33, 23], 'seratus': 100}\n"
          ],
          "name": "stdout"
        }
      ]
    },
    {
      "cell_type": "code",
      "metadata": {
        "colab": {
          "base_uri": "https://localhost:8080/"
        },
        "id": "u_7mFa3lnyFf",
        "outputId": "72844daa-eb55-4f53-e95a-2479db008109"
      },
      "source": [
        "profiles[\"location\"]=[\"jakarta\",\"bandung\",\"surabaya\",\"medan\"]\n",
        "print(profiles)"
      ],
      "execution_count": 68,
      "outputs": [
        {
          "output_type": "stream",
          "text": [
            "{'names': ['harry', 'owen', 'josthonk', 'dita'], 'age': [23, 11, 33, 23], 'seratus': 100, 'location': ['jakarta', 'bandung', 'surabaya', 'medan']}\n"
          ],
          "name": "stdout"
        }
      ]
    },
    {
      "cell_type": "code",
      "metadata": {
        "colab": {
          "base_uri": "https://localhost:8080/"
        },
        "id": "WrhueaDDnzRq",
        "outputId": "4bca40f8-d5f4-417f-e17a-15c375a2e505"
      },
      "source": [
        "profiles"
      ],
      "execution_count": 69,
      "outputs": [
        {
          "output_type": "execute_result",
          "data": {
            "text/plain": [
              "{'age': [23, 11, 33, 23],\n",
              " 'location': ['jakarta', 'bandung', 'surabaya', 'medan'],\n",
              " 'names': ['harry', 'owen', 'josthonk', 'dita'],\n",
              " 'seratus': 100}"
            ]
          },
          "metadata": {
            "tags": []
          },
          "execution_count": 69
        }
      ]
    },
    {
      "cell_type": "code",
      "metadata": {
        "id": "ao2YPut7n0oJ"
      },
      "source": [
        ""
      ],
      "execution_count": 69,
      "outputs": []
    }
  ]
}