{
  "nbformat": 4,
  "nbformat_minor": 0,
  "metadata": {
    "colab": {
      "name": "Untitled0.ipynb",
      "provenance": [],
      "authorship_tag": "ABX9TyOp2LToXmudrZDephgCyvXZ",
      "include_colab_link": true
    },
    "kernelspec": {
      "name": "python3",
      "display_name": "Python 3"
    },
    "language_info": {
      "name": "python"
    }
  },
  "cells": [
    {
      "cell_type": "markdown",
      "metadata": {
        "id": "view-in-github",
        "colab_type": "text"
      },
      "source": [
        "<a href=\"https://colab.research.google.com/github/josthonk/H8_53/blob/main/pytn_053_001.ipynb\" target=\"_parent\"><img src=\"https://colab.research.google.com/assets/colab-badge.svg\" alt=\"Open In Colab\"/></a>"
      ]
    },
    {
      "cell_type": "code",
      "metadata": {
        "colab": {
          "base_uri": "https://localhost:8080/"
        },
        "id": "a4T3WpCmhKT8",
        "outputId": "3e7bef8e-1cca-437b-9752-7687d7ce6488"
      },
      "source": [
        "100"
      ],
      "execution_count": 1,
      "outputs": [
        {
          "output_type": "execute_result",
          "data": {
            "text/plain": [
              "100"
            ]
          },
          "metadata": {
            "tags": []
          },
          "execution_count": 1
        }
      ]
    },
    {
      "cell_type": "code",
      "metadata": {
        "id": "0UNYvI96hST8"
      },
      "source": [
        "s='Hactiv8'"
      ],
      "execution_count": 2,
      "outputs": []
    },
    {
      "cell_type": "code",
      "metadata": {
        "colab": {
          "base_uri": "https://localhost:8080/"
        },
        "id": "o72aHxaBhXzU",
        "outputId": "8f2e8dbf-10bd-441f-9d1e-1ec1457339e9"
      },
      "source": [
        "!python --version"
      ],
      "execution_count": 3,
      "outputs": [
        {
          "output_type": "stream",
          "text": [
            "Python 3.7.10\n"
          ],
          "name": "stdout"
        }
      ]
    },
    {
      "cell_type": "code",
      "metadata": {
        "colab": {
          "base_uri": "https://localhost:8080/"
        },
        "id": "3YV4N_bChdRD",
        "outputId": "e35dc301-874e-41df-cc2f-df11fa307298"
      },
      "source": [
        "print(s)"
      ],
      "execution_count": 4,
      "outputs": [
        {
          "output_type": "stream",
          "text": [
            "Hactiv8\n"
          ],
          "name": "stdout"
        }
      ]
    },
    {
      "cell_type": "code",
      "metadata": {
        "colab": {
          "base_uri": "https://localhost:8080/"
        },
        "id": "arJOIvfahfP1",
        "outputId": "cb3d3a94-122d-48a8-e93d-b06fdbabac5e"
      },
      "source": [
        "print(999)"
      ],
      "execution_count": 5,
      "outputs": [
        {
          "output_type": "stream",
          "text": [
            "999\n"
          ],
          "name": "stdout"
        }
      ]
    },
    {
      "cell_type": "code",
      "metadata": {
        "colab": {
          "base_uri": "https://localhost:8080/"
        },
        "id": "kKLIGCqYhjsV",
        "outputId": "8d2dcd90-d51a-4474-c4bc-4b4ec3273b0a"
      },
      "source": [
        "type(999)"
      ],
      "execution_count": 7,
      "outputs": [
        {
          "output_type": "execute_result",
          "data": {
            "text/plain": [
              "int"
            ]
          },
          "metadata": {
            "tags": []
          },
          "execution_count": 7
        }
      ]
    },
    {
      "cell_type": "code",
      "metadata": {
        "colab": {
          "base_uri": "https://localhost:8080/"
        },
        "id": "Ft0s5_4shuHZ",
        "outputId": "4a03dc2b-6f0e-41a3-d95a-540d43defa1e"
      },
      "source": [
        "type(3.14)"
      ],
      "execution_count": 8,
      "outputs": [
        {
          "output_type": "execute_result",
          "data": {
            "text/plain": [
              "float"
            ]
          },
          "metadata": {
            "tags": []
          },
          "execution_count": 8
        }
      ]
    },
    {
      "cell_type": "code",
      "metadata": {
        "colab": {
          "base_uri": "https://localhost:8080/"
        },
        "id": "SaJeKq0KhuwX",
        "outputId": "a926265e-016c-4296-de4a-e1d16145bf45"
      },
      "source": [
        "type(1.0)"
      ],
      "execution_count": 9,
      "outputs": [
        {
          "output_type": "execute_result",
          "data": {
            "text/plain": [
              "float"
            ]
          },
          "metadata": {
            "tags": []
          },
          "execution_count": 9
        }
      ]
    },
    {
      "cell_type": "code",
      "metadata": {
        "colab": {
          "base_uri": "https://localhost:8080/"
        },
        "id": "xIWRKhlXhwXB",
        "outputId": "b1279a98-9b9e-4204-9263-5d36d4820939"
      },
      "source": [
        "type(1.),print(1.)"
      ],
      "execution_count": 10,
      "outputs": [
        {
          "output_type": "stream",
          "text": [
            "1.0\n"
          ],
          "name": "stdout"
        },
        {
          "output_type": "execute_result",
          "data": {
            "text/plain": [
              "(float, None)"
            ]
          },
          "metadata": {
            "tags": []
          },
          "execution_count": 10
        }
      ]
    },
    {
      "cell_type": "code",
      "metadata": {
        "colab": {
          "base_uri": "https://localhost:8080/"
        },
        "id": "7NHbQblRhxuy",
        "outputId": "dd5c1557-e709-4f85-adff-9c22ff50571f"
      },
      "source": [
        "type(1.)\n",
        "print(1.)"
      ],
      "execution_count": 11,
      "outputs": [
        {
          "output_type": "stream",
          "text": [
            "1.0\n"
          ],
          "name": "stdout"
        }
      ]
    },
    {
      "cell_type": "code",
      "metadata": {
        "colab": {
          "base_uri": "https://localhost:8080/"
        },
        "id": "HQxRgPSXh0VP",
        "outputId": "1558aafb-bf23-4cde-9216-0019e2e63dc8"
      },
      "source": [
        "print(1.)\n",
        "type(1.)"
      ],
      "execution_count": 12,
      "outputs": [
        {
          "output_type": "stream",
          "text": [
            "1.0\n"
          ],
          "name": "stdout"
        },
        {
          "output_type": "execute_result",
          "data": {
            "text/plain": [
              "float"
            ]
          },
          "metadata": {
            "tags": []
          },
          "execution_count": 12
        }
      ]
    },
    {
      "cell_type": "code",
      "metadata": {
        "colab": {
          "base_uri": "https://localhost:8080/"
        },
        "id": "j_12oNeFh16z",
        "outputId": "6e26c76a-e45e-460e-8069-2bf3bf7f2a83"
      },
      "source": [
        "123456"
      ],
      "execution_count": 13,
      "outputs": [
        {
          "output_type": "execute_result",
          "data": {
            "text/plain": [
              "123456"
            ]
          },
          "metadata": {
            "tags": []
          },
          "execution_count": 13
        }
      ]
    },
    {
      "cell_type": "code",
      "metadata": {
        "colab": {
          "base_uri": "https://localhost:8080/"
        },
        "id": "FNgewI28h3SI",
        "outputId": "80391a22-a8dc-4e76-b14e-971ac4c9ffb9"
      },
      "source": [
        "print(123456)"
      ],
      "execution_count": 14,
      "outputs": [
        {
          "output_type": "stream",
          "text": [
            "123456\n"
          ],
          "name": "stdout"
        }
      ]
    },
    {
      "cell_type": "code",
      "metadata": {
        "colab": {
          "base_uri": "https://localhost:8080/"
        },
        "id": "kB-Hjn6Uh4dr",
        "outputId": "e0c23a77-468d-46f0-fbfb-8102797939d4"
      },
      "source": [
        "print(\"hactiv8\")\n",
        "print('hactiv8')"
      ],
      "execution_count": 15,
      "outputs": [
        {
          "output_type": "stream",
          "text": [
            "hactiv8\n",
            "hactiv8\n"
          ],
          "name": "stdout"
        }
      ]
    },
    {
      "cell_type": "code",
      "metadata": {
        "colab": {
          "base_uri": "https://localhost:8080/"
        },
        "id": "nEk-q_M-h5ps",
        "outputId": "c31fefa5-3ab0-49ec-e150-b59b66d6d337"
      },
      "source": [
        "print(\"hactiv8\")\n",
        "print('hactiv8')\n",
        "print('''hactiv8''')"
      ],
      "execution_count": 16,
      "outputs": [
        {
          "output_type": "stream",
          "text": [
            "hactiv8\n",
            "hactiv8\n",
            "hactiv8\n"
          ],
          "name": "stdout"
        }
      ]
    },
    {
      "cell_type": "code",
      "metadata": {
        "colab": {
          "base_uri": "https://localhost:8080/"
        },
        "id": "TvBPDxjYh7B0",
        "outputId": "1d7a2a07-4f69-4ce0-adc3-b29b516d0328"
      },
      "source": [
        "print(\"yo'sua\")"
      ],
      "execution_count": 17,
      "outputs": [
        {
          "output_type": "stream",
          "text": [
            "yo'sua\n"
          ],
          "name": "stdout"
        }
      ]
    },
    {
      "cell_type": "code",
      "metadata": {
        "colab": {
          "base_uri": "https://localhost:8080/"
        },
        "id": "eqbWulcCh8d4",
        "outputId": "5836aea4-960d-4f79-cc24-ce6169ed03de"
      },
      "source": [
        "print(\"\"\"\n",
        "\"I am attending Ha'tiv8\"\n",
        "\"\"\")"
      ],
      "execution_count": 18,
      "outputs": [
        {
          "output_type": "stream",
          "text": [
            "\n",
            "\"I am attending Ha'tiv8\"\n",
            "\n"
          ],
          "name": "stdout"
        }
      ]
    },
    {
      "cell_type": "code",
      "metadata": {
        "colab": {
          "base_uri": "https://localhost:8080/"
        },
        "id": "OE3o0f24h9k3",
        "outputId": "c36d2f48-3d03-48cb-b512-2abe822128d3"
      },
      "source": [
        "print('''\n",
        "\"I am attending Ha'tiv8\",He said\n",
        "''')"
      ],
      "execution_count": 21,
      "outputs": [
        {
          "output_type": "stream",
          "text": [
            "\n",
            "\"I am attending Ha'tiv8\",He said\n",
            "\n"
          ],
          "name": "stdout"
        }
      ]
    },
    {
      "cell_type": "code",
      "metadata": {
        "colab": {
          "base_uri": "https://localhost:8080/"
        },
        "id": "gWeY8aXQh-wr",
        "outputId": "a85c297e-8a28-4929-da6f-d43750c3fa16"
      },
      "source": [
        "print(\"\"\"-----------------------\n",
        "I am Ha'tiv8,\n",
        "\"I am attending hactiv8\"\n",
        "-----------------------\"\"\")"
      ],
      "execution_count": 26,
      "outputs": [
        {
          "output_type": "stream",
          "text": [
            "-----------------------\n",
            "I am Ha'tiv8,\n",
            "\"I am attending hactiv8\"\n",
            "-----------------------\n"
          ],
          "name": "stdout"
        }
      ]
    },
    {
      "cell_type": "code",
      "metadata": {
        "colab": {
          "base_uri": "https://localhost:8080/"
        },
        "id": "Ucb-6rxLiPWp",
        "outputId": "68ff7315-2b79-4bf1-d888-01fc0ce3b5d7"
      },
      "source": [
        "12345*10"
      ],
      "execution_count": 27,
      "outputs": [
        {
          "output_type": "execute_result",
          "data": {
            "text/plain": [
              "123450"
            ]
          },
          "metadata": {
            "tags": []
          },
          "execution_count": 27
        }
      ]
    },
    {
      "cell_type": "code",
      "metadata": {
        "colab": {
          "base_uri": "https://localhost:8080/"
        },
        "id": "CvphSqm5igBt",
        "outputId": "407055c2-7fb8-46e2-a112-a82e9db2398d"
      },
      "source": [
        "print(12345*10);\n",
        "print((12345)*10)"
      ],
      "execution_count": 31,
      "outputs": [
        {
          "output_type": "stream",
          "text": [
            "123450\n",
            "123450\n"
          ],
          "name": "stdout"
        }
      ]
    },
    {
      "cell_type": "code",
      "metadata": {
        "colab": {
          "base_uri": "https://localhost:8080/",
          "height": 35
        },
        "id": "j78zvsjQih3I",
        "outputId": "6d4270fd-1b20-468a-8499-5aa47f19207b"
      },
      "source": [
        "'hactiv8'"
      ],
      "execution_count": 32,
      "outputs": [
        {
          "output_type": "execute_result",
          "data": {
            "application/vnd.google.colaboratory.intrinsic+json": {
              "type": "string"
            },
            "text/plain": [
              "'hactiv8'"
            ]
          },
          "metadata": {
            "tags": []
          },
          "execution_count": 32
        }
      ]
    },
    {
      "cell_type": "code",
      "metadata": {
        "colab": {
          "base_uri": "https://localhost:8080/"
        },
        "id": "C_URhgIVirSa",
        "outputId": "e882908b-9283-4047-a538-465bd70a4a82"
      },
      "source": [
        "type(100), type(100.), type('100')"
      ],
      "execution_count": 33,
      "outputs": [
        {
          "output_type": "execute_result",
          "data": {
            "text/plain": [
              "(int, float, str)"
            ]
          },
          "metadata": {
            "tags": []
          },
          "execution_count": 33
        }
      ]
    },
    {
      "cell_type": "code",
      "metadata": {
        "colab": {
          "base_uri": "https://localhost:8080/"
        },
        "id": "fYMMMDlsishB",
        "outputId": "9dbfa882-1b03-488b-933e-8b407d514984"
      },
      "source": [
        "print(100), print(100.), print('100')"
      ],
      "execution_count": 35,
      "outputs": [
        {
          "output_type": "stream",
          "text": [
            "100\n",
            "100.0\n",
            "100\n"
          ],
          "name": "stdout"
        },
        {
          "output_type": "execute_result",
          "data": {
            "text/plain": [
              "(None, None, None)"
            ]
          },
          "metadata": {
            "tags": []
          },
          "execution_count": 35
        }
      ]
    },
    {
      "cell_type": "code",
      "metadata": {
        "colab": {
          "base_uri": "https://localhost:8080/",
          "height": 35
        },
        "id": "xl2EabUviud6",
        "outputId": "35904770-7450-44a6-ca35-389065fe401b"
      },
      "source": [
        "'pyton0530001'"
      ],
      "execution_count": 36,
      "outputs": [
        {
          "output_type": "execute_result",
          "data": {
            "application/vnd.google.colaboratory.intrinsic+json": {
              "type": "string"
            },
            "text/plain": [
              "'pyton0530001'"
            ]
          },
          "metadata": {
            "tags": []
          },
          "execution_count": 36
        }
      ]
    },
    {
      "cell_type": "code",
      "metadata": {
        "colab": {
          "base_uri": "https://localhost:8080/"
        },
        "id": "XLZ0flckizDW",
        "outputId": "77b07020-bbe2-4ad3-a18c-2d9d15336dec"
      },
      "source": [
        "type(True), type(False)"
      ],
      "execution_count": 37,
      "outputs": [
        {
          "output_type": "execute_result",
          "data": {
            "text/plain": [
              "(bool, bool)"
            ]
          },
          "metadata": {
            "tags": []
          },
          "execution_count": 37
        }
      ]
    },
    {
      "cell_type": "code",
      "metadata": {
        "colab": {
          "base_uri": "https://localhost:8080/"
        },
        "id": "5FaI1oO_i0RW",
        "outputId": "ae8a139d-da70-4a19-ecec-3b426840096d"
      },
      "source": [
        "int(10.23), float(), str(), bool()"
      ],
      "execution_count": 38,
      "outputs": [
        {
          "output_type": "execute_result",
          "data": {
            "text/plain": [
              "(10, 0.0, '', False)"
            ]
          },
          "metadata": {
            "tags": []
          },
          "execution_count": 38
        }
      ]
    },
    {
      "cell_type": "code",
      "metadata": {
        "colab": {
          "base_uri": "https://localhost:8080/"
        },
        "id": "xlwG3D5ii127",
        "outputId": "c2548809-f9c9-4fae-aa36-cb2d5fadaf77"
      },
      "source": [
        "int(10.23), float(11), str(100), bool(0)"
      ],
      "execution_count": 39,
      "outputs": [
        {
          "output_type": "execute_result",
          "data": {
            "text/plain": [
              "(10, 11.0, '100', False)"
            ]
          },
          "metadata": {
            "tags": []
          },
          "execution_count": 39
        }
      ]
    },
    {
      "cell_type": "code",
      "metadata": {
        "colab": {
          "base_uri": "https://localhost:8080/"
        },
        "id": "Tj_lCvrMi3CE",
        "outputId": "0a2f1184-d88a-47fb-ad10-3f5b53d55c9c"
      },
      "source": [
        "int(10.23), float(11), str(100), bool(23)"
      ],
      "execution_count": 40,
      "outputs": [
        {
          "output_type": "execute_result",
          "data": {
            "text/plain": [
              "(10, 11.0, '100', True)"
            ]
          },
          "metadata": {
            "tags": []
          },
          "execution_count": 40
        }
      ]
    },
    {
      "cell_type": "code",
      "metadata": {
        "colab": {
          "base_uri": "https://localhost:8080/"
        },
        "id": "cBSFqZ7Yi4e1",
        "outputId": "4a9a2898-ce91-4efc-8661-cb8e214640ec"
      },
      "source": [
        "bool(0), bool(None), bool(-11), bool('hactiv8')"
      ],
      "execution_count": 41,
      "outputs": [
        {
          "output_type": "execute_result",
          "data": {
            "text/plain": [
              "(False, False, True, True)"
            ]
          },
          "metadata": {
            "tags": []
          },
          "execution_count": 41
        }
      ]
    },
    {
      "cell_type": "code",
      "metadata": {
        "colab": {
          "base_uri": "https://localhost:8080/"
        },
        "id": "BiwDO6Lai5uI",
        "outputId": "3821a434-5fa5-4582-8f54-ee4dfa5e2ddc"
      },
      "source": [
        "type(.42e7)"
      ],
      "execution_count": 42,
      "outputs": [
        {
          "output_type": "execute_result",
          "data": {
            "text/plain": [
              "float"
            ]
          },
          "metadata": {
            "tags": []
          },
          "execution_count": 42
        }
      ]
    },
    {
      "cell_type": "code",
      "metadata": {
        "colab": {
          "base_uri": "https://localhost:8080/"
        },
        "id": "PE-Qezmvi7FI",
        "outputId": "eb2e2b66-7e52-4a48-86ee-ac98dce12b54"
      },
      "source": [
        "n = 1000\n",
        "a=b=c=300\n",
        "x=y=3.14\n",
        "\n",
        "print(n, type(n))\n",
        "print(a,b,c, type(a), type(b), type(c))\n",
        "print(x, y, type(x), type(y))"
      ],
      "execution_count": 43,
      "outputs": [
        {
          "output_type": "stream",
          "text": [
            "1000 <class 'int'>\n",
            "300 300 300 <class 'int'> <class 'int'> <class 'int'>\n",
            "3.14 3.14 <class 'float'> <class 'float'>\n"
          ],
          "name": "stdout"
        }
      ]
    },
    {
      "cell_type": "code",
      "metadata": {
        "id": "4PisrAGii8ds"
      },
      "source": [
        "B = \"hactiv8\"\n",
        "n = str(n)"
      ],
      "execution_count": 48,
      "outputs": []
    },
    {
      "cell_type": "code",
      "metadata": {
        "colab": {
          "base_uri": "https://localhost:8080/"
        },
        "id": "P7qDeqwKi_GA",
        "outputId": "29682f7d-4594-42c3-e1bf-af782bffb933"
      },
      "source": [
        "print(n)"
      ],
      "execution_count": 51,
      "outputs": [
        {
          "output_type": "stream",
          "text": [
            "1000\n"
          ],
          "name": "stdout"
        }
      ]
    },
    {
      "cell_type": "code",
      "metadata": {
        "colab": {
          "base_uri": "https://localhost:8080/"
        },
        "id": "tSngBk4wjiOV",
        "outputId": "67443aa1-0ed8-4c41-c7d0-a1599b57a074"
      },
      "source": [
        "type(n)"
      ],
      "execution_count": 52,
      "outputs": [
        {
          "output_type": "execute_result",
          "data": {
            "text/plain": [
              "str"
            ]
          },
          "metadata": {
            "tags": []
          },
          "execution_count": 52
        }
      ]
    },
    {
      "cell_type": "code",
      "metadata": {
        "colab": {
          "base_uri": "https://localhost:8080/"
        },
        "id": "Vu7FNA-0jATr",
        "outputId": "871b4ba6-ba57-4751-ff3d-17158c64bb0f"
      },
      "source": [
        "print (a+b)\n",
        "print (a*b)\n",
        "print (a/b, type(a/b))\n",
        "print (a-x)\n",
        "print (a%b)\n",
        "print (a**2)\n",
        "print (n%23)"
      ],
      "execution_count": 47,
      "outputs": [
        {
          "output_type": "stream",
          "text": [
            "600\n",
            "90000\n",
            "1.0 <class 'float'>\n",
            "296.86\n",
            "0\n",
            "90000\n",
            "11\n"
          ],
          "name": "stdout"
        }
      ]
    },
    {
      "cell_type": "code",
      "metadata": {
        "colab": {
          "base_uri": "https://localhost:8080/"
        },
        "id": "1TM4psJZjfu4",
        "outputId": "02abe2b5-89a5-4e4c-c5f3-a6fd76a1f12a"
      },
      "source": [
        "5/2"
      ],
      "execution_count": 53,
      "outputs": [
        {
          "output_type": "execute_result",
          "data": {
            "text/plain": [
              "2.5"
            ]
          },
          "metadata": {
            "tags": []
          },
          "execution_count": 53
        }
      ]
    },
    {
      "cell_type": "code",
      "metadata": {
        "colab": {
          "base_uri": "https://localhost:8080/"
        },
        "id": "kBIT7LkHjI-8",
        "outputId": "9308601c-81fe-4a77-b9b6-71b23ee02f1c"
      },
      "source": [
        "6%3"
      ],
      "execution_count": 54,
      "outputs": [
        {
          "output_type": "execute_result",
          "data": {
            "text/plain": [
              "0"
            ]
          },
          "metadata": {
            "tags": []
          },
          "execution_count": 54
        }
      ]
    },
    {
      "cell_type": "code",
      "metadata": {
        "colab": {
          "base_uri": "https://localhost:8080/"
        },
        "id": "FYEoTUXdjsWu",
        "outputId": "68b7e5f2-74c7-4a60-f74b-11cb9e7f6a16"
      },
      "source": [
        "7%3"
      ],
      "execution_count": 55,
      "outputs": [
        {
          "output_type": "execute_result",
          "data": {
            "text/plain": [
              "1"
            ]
          },
          "metadata": {
            "tags": []
          },
          "execution_count": 55
        }
      ]
    },
    {
      "cell_type": "code",
      "metadata": {
        "colab": {
          "base_uri": "https://localhost:8080/"
        },
        "id": "5evs4yX5jtRy",
        "outputId": "bb262d3b-e76c-4325-b7e4-d8fd43507f25"
      },
      "source": [
        "print(s)"
      ],
      "execution_count": 56,
      "outputs": [
        {
          "output_type": "stream",
          "text": [
            "Hactiv8\n"
          ],
          "name": "stdout"
        }
      ]
    },
    {
      "cell_type": "code",
      "metadata": {
        "colab": {
          "base_uri": "https://localhost:8080/"
        },
        "id": "NpaQEABJjuX4",
        "outputId": "2c852702-3492-42c2-baba-ed5a0469ad2b"
      },
      "source": [
        "print(s * 3)"
      ],
      "execution_count": 57,
      "outputs": [
        {
          "output_type": "stream",
          "text": [
            "Hactiv8Hactiv8Hactiv8\n"
          ],
          "name": "stdout"
        }
      ]
    },
    {
      "cell_type": "code",
      "metadata": {
        "colab": {
          "base_uri": "https://localhost:8080/"
        },
        "id": "EszklBEzjvdm",
        "outputId": "2d8966e5-84be-4561-9242-71b88d287616"
      },
      "source": [
        "print(s + str(3))"
      ],
      "execution_count": 58,
      "outputs": [
        {
          "output_type": "stream",
          "text": [
            "Hactiv83\n"
          ],
          "name": "stdout"
        }
      ]
    },
    {
      "cell_type": "code",
      "metadata": {
        "colab": {
          "base_uri": "https://localhost:8080/"
        },
        "id": "uhiVDZd5jwkh",
        "outputId": "2720d35e-bbf4-4a43-b872-56f014da68b0"
      },
      "source": [
        "print(s + str(3))"
      ],
      "execution_count": 59,
      "outputs": [
        {
          "output_type": "stream",
          "text": [
            "Hactiv83\n"
          ],
          "name": "stdout"
        }
      ]
    },
    {
      "cell_type": "code",
      "metadata": {
        "colab": {
          "base_uri": "https://localhost:8080/"
        },
        "id": "N2NhjlZsjxub",
        "outputId": "e86f8642-4db4-4b76-9659-c34902b68c7b"
      },
      "source": [
        "book_title = \"monty's python\"\n",
        "bootcamp_name = \"hacktiv8\"\n",
        "password = 'mYnAMeISjoE'\n",
        "\n",
        "print(book_title)\n",
        "print(bootcamp_name)\n",
        "print(book_title.title())\n",
        "print(bootcamp_name.upper())\n",
        "print(password.swapcase())\n",
        "print(book_title.capitalize())"
      ],
      "execution_count": 60,
      "outputs": [
        {
          "output_type": "stream",
          "text": [
            "monty's python\n",
            "hacktiv8\n",
            "Monty'S Python\n",
            "HACKTIV8\n",
            "MyNamEisJOe\n",
            "Monty's python\n"
          ],
          "name": "stdout"
        }
      ]
    },
    {
      "cell_type": "code",
      "metadata": {
        "colab": {
          "base_uri": "https://localhost:8080/"
        },
        "id": "_pgQx1rxjysj",
        "outputId": "dee07484-b46e-49a4-dbb1-6ce643c1f579"
      },
      "source": [
        "a = 10\n",
        "b= 20\n",
        "\n",
        "print (a==b) #validasi a apakah = b\n",
        "print (a!=b) #tidak sama dengan\n",
        "print (a<=b)\n",
        "print (a>=b)\n",
        "\n",
        "a=30\n",
        "b=30\n",
        "print (a==b)\n",
        "print (a<=b)\n",
        "print (a>=b)"
      ],
      "execution_count": 61,
      "outputs": [
        {
          "output_type": "stream",
          "text": [
            "False\n",
            "True\n",
            "True\n",
            "False\n",
            "True\n",
            "True\n",
            "True\n"
          ],
          "name": "stdout"
        }
      ]
    },
    {
      "cell_type": "code",
      "metadata": {
        "colab": {
          "base_uri": "https://localhost:8080/"
        },
        "id": "B2VZINkdj0Ww",
        "outputId": "9b6dd50b-84e1-45a9-807b-ab7f77247964"
      },
      "source": [
        "# + Operators\n",
        "s =  'foo'\n",
        "t = 'bar'\n",
        "u = 'baz'\n",
        "\n",
        "print(s+t)\n",
        "print(s+t+u)\n",
        "\n",
        "print('Hacktiv8 ' + \"PTP\")\n"
      ],
      "execution_count": 62,
      "outputs": [
        {
          "output_type": "stream",
          "text": [
            "foobar\n",
            "foobarbaz\n",
            "Hacktiv8 PTP\n"
          ],
          "name": "stdout"
        }
      ]
    },
    {
      "cell_type": "code",
      "metadata": {
        "colab": {
          "base_uri": "https://localhost:8080/"
        },
        "id": "Z10a7CjFj2pd",
        "outputId": "006c6900-69eb-4b2a-9e0a-6642c73e41cf"
      },
      "source": [
        "# * Operators\n",
        "s= 'hello..'\n",
        "print (s*4)"
      ],
      "execution_count": 63,
      "outputs": [
        {
          "output_type": "stream",
          "text": [
            "hello..hello..hello..hello..\n"
          ],
          "name": "stdout"
        }
      ]
    },
    {
      "cell_type": "code",
      "metadata": {
        "colab": {
          "base_uri": "https://localhost:8080/"
        },
        "id": "qVnJOpoPj384",
        "outputId": "aed63cfc-6b10-4099-a654-79b86ace85c5"
      },
      "source": [
        "# in Operators\n",
        "s = \"foo\"\n",
        "\n",
        "print(s in \"That food for us\")\n",
        "print(s in \"That good for us\")"
      ],
      "execution_count": 64,
      "outputs": [
        {
          "output_type": "stream",
          "text": [
            "True\n",
            "False\n"
          ],
          "name": "stdout"
        }
      ]
    },
    {
      "cell_type": "code",
      "metadata": {
        "id": "FUhaZCWPj44M"
      },
      "source": [
        "# Case Conversion\n",
        "s = 'HackTIV8'\n"
      ],
      "execution_count": 65,
      "outputs": []
    },
    {
      "cell_type": "code",
      "metadata": {
        "colab": {
          "base_uri": "https://localhost:8080/"
        },
        "id": "9aCuu3WQj6YA",
        "outputId": "4d911649-1a4c-46e3-ee7d-d4c28395fd63"
      },
      "source": [
        "print (\"\"\"'Whether you think you can, or you think you can't--you're right.'\"\"\")"
      ],
      "execution_count": 66,
      "outputs": [
        {
          "output_type": "stream",
          "text": [
            "'Whether you think you can, or you think you can't--you're right.'\n"
          ],
          "name": "stdout"
        }
      ]
    },
    {
      "cell_type": "code",
      "metadata": {
        "colab": {
          "base_uri": "https://localhost:8080/"
        },
        "id": "jsiJYBWcj7ZH",
        "outputId": "abce526c-d2a5-427e-cfbb-13e25073aad5"
      },
      "source": [
        "names = [\"Adit\",\"Bagus\",\"Yusuf\",\"Ilham\",\"Maria\",\"Dita\",53,0,3.14]\n",
        "print(names, type(names))"
      ],
      "execution_count": 67,
      "outputs": [
        {
          "output_type": "stream",
          "text": [
            "['Adit', 'Bagus', 'Yusuf', 'Ilham', 'Maria', 'Dita', 53, 0, 3.14] <class 'list'>\n"
          ],
          "name": "stdout"
        }
      ]
    },
    {
      "cell_type": "code",
      "metadata": {
        "colab": {
          "base_uri": "https://localhost:8080/"
        },
        "id": "ppR9KMzmj8_8",
        "outputId": "168d0826-840b-46ee-d8a6-351cd3531659"
      },
      "source": [
        "others = [\"Satya\",\"Richard\",\"Stefani\",\"Timotius\",\"Veronica\",\"Viony\",\"Yoga\",\"yoga\"]\n",
        "print(others)"
      ],
      "execution_count": 70,
      "outputs": [
        {
          "output_type": "stream",
          "text": [
            "['Satya', 'Richard', 'Stefani', 'Timotius', 'Veronica', 'Viony', 'Yoga', 'yoga']\n"
          ],
          "name": "stdout"
        }
      ]
    },
    {
      "cell_type": "code",
      "metadata": {
        "colab": {
          "base_uri": "https://localhost:8080/"
        },
        "id": "4_Em4R6pkCan",
        "outputId": "8659e932-d7a7-43fb-8bc1-10ecb4404cf5"
      },
      "source": [
        "names == others"
      ],
      "execution_count": 71,
      "outputs": [
        {
          "output_type": "execute_result",
          "data": {
            "text/plain": [
              "False"
            ]
          },
          "metadata": {
            "tags": []
          },
          "execution_count": 71
        }
      ]
    },
    {
      "cell_type": "code",
      "metadata": {
        "colab": {
          "base_uri": "https://localhost:8080/"
        },
        "id": "jB0r9eepkIB2",
        "outputId": "a41d6b78-0e0d-41a7-e041-3c627757d111"
      },
      "source": [
        "num_others = len(others)\n",
        "num_names = len(names)\n",
        "print(\"length others:\", num_others)\n",
        "print(\"length names:\", num_names)"
      ],
      "execution_count": 72,
      "outputs": [
        {
          "output_type": "stream",
          "text": [
            "length others: 8\n",
            "length names: 9\n"
          ],
          "name": "stdout"
        }
      ]
    },
    {
      "cell_type": "code",
      "metadata": {
        "colab": {
          "base_uri": "https://localhost:8080/"
        },
        "id": "iojkqT38kJX_",
        "outputId": "76981d55-6e77-4ec3-bf3c-3aeeaabbf260"
      },
      "source": [
        "len([1,2,3,4,[1,2,3],5,6,7,True,False])"
      ],
      "execution_count": 73,
      "outputs": [
        {
          "output_type": "execute_result",
          "data": {
            "text/plain": [
              "10"
            ]
          },
          "metadata": {
            "tags": []
          },
          "execution_count": 73
        }
      ]
    },
    {
      "cell_type": "code",
      "metadata": {
        "colab": {
          "base_uri": "https://localhost:8080/"
        },
        "id": "9ZzXhsDGkKzJ",
        "outputId": "f2b57598-578c-45c5-8939-45c036369de7"
      },
      "source": [
        "len([[1,2,3],\n",
        " [2,3],\n",
        " False,\n",
        "True])"
      ],
      "execution_count": 74,
      "outputs": [
        {
          "output_type": "execute_result",
          "data": {
            "text/plain": [
              "4"
            ]
          },
          "metadata": {
            "tags": []
          },
          "execution_count": 74
        }
      ]
    },
    {
      "cell_type": "code",
      "metadata": {
        "colab": {
          "base_uri": "https://localhost:8080/"
        },
        "id": "223TdhQOkMHQ",
        "outputId": "c0fcce76-672a-4408-e749-d822bd7b084b"
      },
      "source": [
        "print(\"item 1 of names:\", names[0])\n",
        "print(\"item 2 of names:\", names[1])\n",
        "print(\"item 5 of names:\", names[4])"
      ],
      "execution_count": 75,
      "outputs": [
        {
          "output_type": "stream",
          "text": [
            "item 1 of names: Adit\n",
            "item 2 of names: Bagus\n",
            "item 5 of names: Maria\n"
          ],
          "name": "stdout"
        }
      ]
    },
    {
      "cell_type": "code",
      "metadata": {
        "colab": {
          "base_uri": "https://localhost:8080/"
        },
        "id": "ocd7hNFKkNpW",
        "outputId": "c85b3312-e27e-4b1f-b21d-626473ec31b5"
      },
      "source": [
        "print (names [0] == names [-len(names)])\n",
        "print (names [0], names [-len(names)])\n",
        "print (names [len(names)-1] == names [-1])\n",
        "print (names [len(names)-1], names[-1])\n",
        "print (names[-1], names[-2])"
      ],
      "execution_count": 76,
      "outputs": [
        {
          "output_type": "stream",
          "text": [
            "True\n",
            "Adit Adit\n",
            "True\n",
            "3.14 3.14\n",
            "3.14 0\n"
          ],
          "name": "stdout"
        }
      ]
    },
    {
      "cell_type": "code",
      "metadata": {
        "colab": {
          "base_uri": "https://localhost:8080/"
        },
        "id": "bqhaJ2fhkOwn",
        "outputId": "8ba9335f-494d-40f1-9c21-b8acf769e21a"
      },
      "source": [
        "print(others)\n",
        "print(others[1:4], others[2:5], others[0:len(others)//2])\n",
        "\n",
        "print(names)\n",
        "print(names[1:4], names[2:5], names[0:len(names)//3])\n"
      ],
      "execution_count": 77,
      "outputs": [
        {
          "output_type": "stream",
          "text": [
            "['Satya', 'Richard', 'Stefani', 'Timotius', 'Veronica', 'Viony', 'Yoga', 'yoga']\n",
            "['Richard', 'Stefani', 'Timotius'] ['Stefani', 'Timotius', 'Veronica'] ['Satya', 'Richard', 'Stefani', 'Timotius']\n",
            "['Adit', 'Bagus', 'Yusuf', 'Ilham', 'Maria', 'Dita', 53, 0, 3.14]\n",
            "['Bagus', 'Yusuf', 'Ilham'] ['Yusuf', 'Ilham', 'Maria'] ['Adit', 'Bagus', 'Yusuf']\n"
          ],
          "name": "stdout"
        }
      ]
    },
    {
      "cell_type": "code",
      "metadata": {
        "id": "3sVsRJ49kQV2"
      },
      "source": [
        "##TUPLES using ()"
      ],
      "execution_count": 78,
      "outputs": []
    },
    {
      "cell_type": "code",
      "metadata": {
        "colab": {
          "base_uri": "https://localhost:8080/"
        },
        "id": "fLsSh3rqkS1s",
        "outputId": "c0306c22-e458-42da-eaff-1a46c59040d3"
      },
      "source": [
        "batch = (\"PYTN53\",\"PYTN54\",53,54)\n",
        "batches = ((\"PYTN053ONL\",53),(\"PYTN054ONL\",54))\n",
        "\n",
        "print(batch, len(batch), batch[0], type(batch))\n",
        "print(batches, len(batches), batches[-1],type(batches))"
      ],
      "execution_count": 79,
      "outputs": [
        {
          "output_type": "stream",
          "text": [
            "('PYTN53', 'PYTN54', 53, 54) 4 PYTN53 <class 'tuple'>\n",
            "(('PYTN053ONL', 53), ('PYTN054ONL', 54)) 2 ('PYTN054ONL', 54) <class 'tuple'>\n"
          ],
          "name": "stdout"
        }
      ]
    },
    {
      "cell_type": "code",
      "metadata": {
        "id": "Dzp0yrNfkUf-"
      },
      "source": [
        "#batch[-1] = 100 \n",
        "#This will throw error, tuple can not be updated\n"
      ],
      "execution_count": 83,
      "outputs": []
    },
    {
      "cell_type": "code",
      "metadata": {
        "colab": {
          "base_uri": "https://localhost:8080/"
        },
        "id": "_2BJeszSkWeQ",
        "outputId": "2a025d90-b7ee-4618-e655-47c47923ed12"
      },
      "source": [
        "a,b,c,d = batch\n",
        "print(a)\n",
        "print(b)\n",
        "print(c)\n",
        "print(d)\n",
        "\n",
        "batch_name, batch_number = batches\n",
        "print(batch_name)\n",
        "print(batch_number)\n",
        "\n",
        "name_1, _ = batches\n",
        "print(name_1)\n",
        "print(_)"
      ],
      "execution_count": 84,
      "outputs": [
        {
          "output_type": "stream",
          "text": [
            "PYTN53\n",
            "PYTN54\n",
            "53\n",
            "54\n",
            "('PYTN053ONL', 53)\n",
            "('PYTN054ONL', 54)\n",
            "('PYTN053ONL', 53)\n",
            "('PYTN054ONL', 54)\n"
          ],
          "name": "stdout"
        }
      ]
    },
    {
      "cell_type": "code",
      "metadata": {
        "id": "tIGEqhUKnvKK"
      },
      "source": [
        "profiles = {\n",
        "    \"names\":[\"harry\",\"owen\",\"josthonk\",\"dita\"],\n",
        "    \"age\":[23,11,33,23],\n",
        "    \"seratus\":100\n",
        "}"
      ],
      "execution_count": 85,
      "outputs": []
    },
    {
      "cell_type": "code",
      "metadata": {
        "colab": {
          "base_uri": "https://localhost:8080/"
        },
        "id": "Nu3Neg4Fnw_C",
        "outputId": "948597d9-f600-494f-839e-e8c2f97fc8ff"
      },
      "source": [
        "print (profiles)"
      ],
      "execution_count": 86,
      "outputs": [
        {
          "output_type": "stream",
          "text": [
            "{'names': ['harry', 'owen', 'josthonk', 'dita'], 'age': [23, 11, 33, 23], 'seratus': 100}\n"
          ],
          "name": "stdout"
        }
      ]
    },
    {
      "cell_type": "code",
      "metadata": {
        "colab": {
          "base_uri": "https://localhost:8080/"
        },
        "id": "u_7mFa3lnyFf",
        "outputId": "1e97f585-4038-4f42-df87-7509ffdd643b"
      },
      "source": [
        "profiles[\"location\"]=[\"jakarta\",\"bandung\",\"surabaya\",\"medan\"]\n",
        "print(profiles)"
      ],
      "execution_count": 90,
      "outputs": [
        {
          "output_type": "stream",
          "text": [
            "{'names': ['harry', 'owen', 'josthonk', 'dita'], 'age': [23, 11, 33, 23], 'seratus': 100, 'location': ['jakarta', 'bandung', 'surabaya', 'medan']}\n"
          ],
          "name": "stdout"
        }
      ]
    },
    {
      "cell_type": "code",
      "metadata": {
        "colab": {
          "base_uri": "https://localhost:8080/"
        },
        "id": "WrhueaDDnzRq",
        "outputId": "912fec66-bf24-4b89-bfc2-8bb8a9b2ba10"
      },
      "source": [
        "profiles"
      ],
      "execution_count": 91,
      "outputs": [
        {
          "output_type": "execute_result",
          "data": {
            "text/plain": [
              "{'age': [23, 11, 33, 23],\n",
              " 'location': ['jakarta', 'bandung', 'surabaya', 'medan'],\n",
              " 'names': ['harry', 'owen', 'josthonk', 'dita'],\n",
              " 'seratus': 100}"
            ]
          },
          "metadata": {
            "tags": []
          },
          "execution_count": 91
        }
      ]
    },
    {
      "cell_type": "code",
      "metadata": {
        "id": "ao2YPut7n0oJ"
      },
      "source": [
        ""
      ],
      "execution_count": null,
      "outputs": []
    }
  ]
}